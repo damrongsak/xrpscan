{
 "cells": [
  {
   "cell_type": "code",
   "execution_count": null,
   "metadata": {},
   "outputs": [],
   "source": [
    "import pandas as pd\n",
    "from urllib.request import urlopen\n",
    "import json\n",
    "from pandas.io.json import json_normalize\n"
   ]
  },
  {
   "cell_type": "code",
   "execution_count": null,
   "metadata": {},
   "outputs": [],
   "source": [
    "import requests\n",
    "\n",
    "ACCOUNT_ADDRESS = 'rEb8TK3gBgk5auZkwc6sHnwrGVJH8DuaLh'\n",
    "url = 'https://api.xrpscan.com/api/v1/account//{ACCOUNT_ADDRESS}'.format(ACCOUNT_ADDRESS=ACCOUNT_ADDRESS)\n",
    "\n",
    "header = {\n",
    "  \"User-Agent\": \"Mozilla/5.0 (X11; Linux x86_64) AppleWebKit/537.36 (KHTML, like Gecko) Chrome/50.0.2661.75 Safari/537.36\",\n",
    "  \"X-Requested-With\": \"XMLHttpRequest\"\n",
    "}\n",
    "\n",
    "r = requests.get(url, headers=header)\n",
    "\n",
    "dfs = pd.read_json(r.text)\n",
    "dfs.fillna('', inplace=True)\n",
    "dfs"
   ]
  },
  {
   "cell_type": "code",
   "execution_count": null,
   "metadata": {},
   "outputs": [],
   "source": [
    "from IPython.display import JSON\n",
    "JSON(r.text, expanded=True)"
   ]
  },
  {
   "cell_type": "markdown",
   "metadata": {},
   "source": [
    "# Get Payment flows"
   ]
  },
  {
   "cell_type": "code",
   "execution_count": null,
   "metadata": {},
   "outputs": [],
   "source": [
    "ACCOUNT_ADDRESS = 'rEb8TK3gBgk5auZkwc6sHnwrGVJH8DuaLh'\n",
    "url = 'https://api.xrpscan.com/api/v1/account/{ACCOUNT_ADDRESS}/payment_flows'.format(ACCOUNT_ADDRESS=ACCOUNT_ADDRESS)\n",
    "\n",
    "header = {\n",
    "  \"User-Agent\": \"Mozilla/5.0 (X11; Linux x86_64) AppleWebKit/537.36 (KHTML, like Gecko) Chrome/50.0.2661.75 Safari/537.36\",\n",
    "  \"X-Requested-With\": \"XMLHttpRequest\"\n",
    "}\n",
    "\n",
    "r = requests.get(url, headers=header)\n",
    "JSON(r.text, expanded=True)"
   ]
  },
  {
   "cell_type": "markdown",
   "metadata": {},
   "source": [
    "# Get ALL Name from TAG"
   ]
  },
  {
   "cell_type": "code",
   "execution_count": null,
   "metadata": {},
   "outputs": [],
   "source": [
    "url = 'https://api.xrpscan.com/api/v1/names/well-known'\n",
    "\n",
    "header = {\n",
    "  \"User-Agent\": \"Mozilla/5.0 (X11; Linux x86_64) AppleWebKit/537.36 (KHTML, like Gecko) Chrome/50.0.2661.75 Safari/537.36\",\n",
    "  \"X-Requested-With\": \"XMLHttpRequest\"\n",
    "}\n",
    "\n",
    "r = requests.get(url, headers=header)\n",
    "JSON(r.text, expanded=True)"
   ]
  },
  {
   "cell_type": "code",
   "execution_count": null,
   "metadata": {},
   "outputs": [],
   "source": [
    "import requests\n",
    "import json\n",
    "from pandas.io.json import json_normalize\n",
    "\n",
    "url = 'https://api.xrpscan.com/api/v1/names/well-known'\n",
    "\n",
    "header = {\n",
    "  \"User-Agent\": \"Mozilla/5.0 (X11; Linux x86_64) AppleWebKit/537.36 (KHTML, like Gecko) Chrome/50.0.2661.75 Safari/537.36\",\n",
    "  \"X-Requested-With\": \"XMLHttpRequest\"\n",
    "}\n",
    "\n",
    "r = requests.get(url, headers=header)\n",
    "\n",
    "data = json.loads(r.text)\n",
    "df = json_normalize(data)\n",
    "df.fillna('', inplace=True)\n",
    "df.loc[df.name.str.contains('Binance')]"
   ]
  },
  {
   "cell_type": "code",
   "execution_count": null,
   "metadata": {},
   "outputs": [],
   "source": [
    "df.to_excel('data/List of well-known Names used to identify accounts.xlsx')"
   ]
  },
  {
   "cell_type": "markdown",
   "metadata": {},
   "source": [
    "# Get Account Balances"
   ]
  },
  {
   "cell_type": "code",
   "execution_count": null,
   "metadata": {},
   "outputs": [],
   "source": [
    "import pandas as pd\n",
    "import requests\n",
    "import json\n",
    "from urllib.request import urlopen\n",
    "from IPython.display import JSON\n",
    "from pandas.io.json import json_normalize\n",
    "\n",
    "from datetime import datetime\n",
    "from datetime import timedelta\n",
    "\n",
    "now = datetime.now() - timedelta(days=1)\n",
    "date_time = now.strftime(\"%Y-%m-%d\")\n",
    "\n",
    "ACCOUNT_ADDRESS = 'rEeEWeP88cpKUddKk37B2EZeiHBGiBXY3'\n",
    "url = 'https://data.ripple.com/v2/accounts/{ACCOUNT_ADDRESS}/balances?currency=XRP&date={date_time}T00:00:00Z&limit=3'.format(ACCOUNT_ADDRESS=ACCOUNT_ADDRESS, date_time=date_time)\n",
    "\n",
    "header = {\n",
    "  \"User-Agent\": \"Mozilla/5.0 (X11; Linux x86_64) AppleWebKit/537.36 (KHTML, like Gecko) Chrome/50.0.2661.75 Safari/537.36\",\n",
    "  \"X-Requested-With\": \"XMLHttpRequest\"\n",
    "}\n",
    "\n",
    "r = requests.get(url, headers=header)\n",
    "\n",
    "data = json.loads(r.text)\n",
    "JSON(data, expanded=True)"
   ]
  },
  {
   "cell_type": "markdown",
   "metadata": {},
   "source": [
    "# Get daily reports"
   ]
  },
  {
   "cell_type": "code",
   "execution_count": null,
   "metadata": {},
   "outputs": [],
   "source": [
    "import pandas as pd\n",
    "import requests\n",
    "import json\n",
    "from urllib.request import urlopen\n",
    "from IPython.display import JSON\n",
    "from pandas.io.json import json_normalize\n",
    "\n",
    "from datetime import datetime\n",
    "from datetime import timedelta\n",
    "\n",
    "now = datetime.now() - timedelta(days=1)\n",
    "date_time = now.strftime(\"%Y-%m-%d\")\n",
    "\n",
    "url = 'https://data.ripple.com/v2/reports/{date_time}T00:00:00Z?accounts=true&payments=true'.format(date_time=date_time)\n",
    "\n",
    "header = {\n",
    "  \"User-Agent\": \"Mozilla/5.0 (X11; Linux x86_64) AppleWebKit/537.36 (KHTML, like Gecko) Chrome/50.0.2661.75 Safari/537.36\",\n",
    "  \"X-Requested-With\": \"XMLHttpRequest\"\n",
    "}\n",
    "\n",
    "r = requests.get(url, headers=header)\n",
    "\n",
    "data = json.loads(r.text)\n",
    "JSON(data, expanded=True)"
   ]
  },
  {
   "cell_type": "markdown",
   "metadata": {},
   "source": [
    "# Get balance"
   ]
  },
  {
   "cell_type": "code",
   "execution_count": null,
   "metadata": {},
   "outputs": [],
   "source": [
    "import pandas as pd\n",
    "import requests\n",
    "import json\n",
    "from urllib.request import urlopen\n",
    "from IPython.display import JSON\n",
    "from pandas.io.json import json_normalize\n",
    "\n",
    "from datetime import datetime\n",
    "from datetime import timedelta\n",
    "import time\n",
    "\n",
    "df_name = pd.read_excel('data/List of well-known Names used to identify accounts.xlsx')\n",
    "df_name.fillna('', inplace=True)\n",
    "\n",
    "now = datetime.now()\n",
    "date_time = now.strftime(\"%Y-%m-%d\")\n",
    "\n",
    "header = {\n",
    "  \"User-Agent\": \"Mozilla/5.0 (X11; Linux x86_64) AppleWebKit/537.36 (KHTML, like Gecko) Chrome/50.0.2661.75 Safari/537.36\",\n",
    "  \"X-Requested-With\": \"XMLHttpRequest\"\n",
    "}\n",
    "\n",
    "df_xrp = df_name.copy(deep=True)\n",
    "\n",
    "print('Begin')\n",
    "\n",
    "df_name = df_name.sort_values(by='XRP', ascending=False)\n",
    "df_name = df_name[:100] # get top 30 balance\n",
    "\n",
    "for _, row in df_name.iterrows():\n",
    "    print('{}-{}-{}'.format(row['account'], row['name'], row['desc']))\n",
    "\n",
    "    ACCOUNT_ADDRESS = row['account']\n",
    "    \n",
    "    url = 'https://data.ripple.com/v2/accounts/{ACCOUNT_ADDRESS}/balances?currency=XRP&date={date_time}T00:00:00Z&limit=3'.format(ACCOUNT_ADDRESS=ACCOUNT_ADDRESS, date_time=date_time)\n",
    "\n",
    "    r = requests.get(url, headers=header)\n",
    "\n",
    "    data = json.loads(r.text)\n",
    "    if data['result'] != 'error':\n",
    "        df_xrp.loc[df_xrp['account'] == ACCOUNT_ADDRESS, date_time] = float(data['balances'][0]['value'])\n",
    "        \n",
    "    #print('-----------------------')\n",
    "    time.sleep(0.001)   # Delays for 1 seconds. You can also use a float value.\n",
    "\n",
    "df_xrp['verified'] = df_xrp['verified'].astype(bool)\n",
    "\n",
    "df_xrp.to_excel('data/{}-List of well-known Names used to identify accounts.xlsx'.format(date_time), index=False)\n",
    "\n",
    "print('Done.')"
   ]
  },
  {
   "cell_type": "code",
   "execution_count": null,
   "metadata": {},
   "outputs": [],
   "source": [
    "df_xrp.to_excel('data/List of well-known Names used to identify accounts.xlsx')"
   ]
  },
  {
   "cell_type": "markdown",
   "metadata": {},
   "source": [
    "# Get Account Transaction History"
   ]
  },
  {
   "cell_type": "code",
   "execution_count": null,
   "metadata": {},
   "outputs": [],
   "source": [
    "url = 'https://data.ripple.com/v2/accounts/rsdvR9WZzKszBogBJrpLPE64WWyEW4ffzS/transactions?type=Payment&result=tesSUCCESS&limit=10'"
   ]
  },
  {
   "cell_type": "code",
   "execution_count": null,
   "metadata": {},
   "outputs": [],
   "source": [
    "import pandas as pd\n",
    "import requests\n",
    "import json\n",
    "from urllib.request import urlopen\n",
    "from IPython.display import JSON\n",
    "from pandas.io.json import json_normalize\n",
    "\n",
    "ACCOUNT_ADDRESS = 'rw7m3CtVHwGSdhFjV4MyJozmZJv3DYQnsA'\n",
    "url = 'https://data.ripple.com/v2/accounts/{ACCOUNT_ADDRESS}/transactions?type=Payment&result=tesSUCCESS&limit=400'.format(ACCOUNT_ADDRESS=ACCOUNT_ADDRESS)\n",
    "\n",
    "header = {\n",
    "  \"User-Agent\": \"Mozilla/5.0 (X11; Linux x86_64) AppleWebKit/537.36 (KHTML, like Gecko) Chrome/50.0.2661.75 Safari/537.36\",\n",
    "  \"X-Requested-With\": \"XMLHttpRequest\"\n",
    "}\n",
    "\n",
    "r = requests.get(url, headers=header)\n",
    "\n",
    "data = json.loads(r.text)\n",
    "JSON(data, expanded=True)"
   ]
  },
  {
   "cell_type": "code",
   "execution_count": null,
   "metadata": {},
   "outputs": [],
   "source": [
    "JSON(data['transactions'][17], expanded=True)"
   ]
  },
  {
   "cell_type": "markdown",
   "metadata": {},
   "source": [
    "# Get Transactions"
   ]
  },
  {
   "cell_type": "markdown",
   "metadata": {},
   "source": [
    "## Config"
   ]
  },
  {
   "cell_type": "code",
   "execution_count": null,
   "metadata": {},
   "outputs": [],
   "source": [
    "import pandas as pd\n",
    "import requests\n",
    "import json\n",
    "from urllib.request import urlopen\n",
    "from IPython.display import JSON\n",
    "from pandas.io.json import json_normalize\n",
    "\n",
    "from datetime import datetime\n",
    "from datetime import timedelta\n",
    "import time"
   ]
  },
  {
   "cell_type": "markdown",
   "metadata": {},
   "source": [
    "## Load Account Name"
   ]
  },
  {
   "cell_type": "code",
   "execution_count": null,
   "metadata": {},
   "outputs": [],
   "source": [
    "df_name = pd.read_excel('data/List of well-known Names used to identify accounts.xlsx')\n",
    "df_name.fillna('', inplace=True)\n",
    "df_name = df_name.sort_values(by='XRP', ascending=False)\n",
    "df_name.head()"
   ]
  },
  {
   "cell_type": "code",
   "execution_count": null,
   "metadata": {},
   "outputs": [],
   "source": [
    "frames = []\n",
    "df_name.fillna('', inplace=True)\n",
    "for _, row in df_name.iterrows():\n",
    "    print('{}-{}-{}'.format(row['account'], row['name'], row['desc']))\n",
    "    ACCOUNT_ADDRESS = row['account']\n",
    "    data = load_transactions(ACCOUNT_ADDRESS)\n",
    "    \n",
    "    if data.__contains__('result'):\n",
    "        if data['result'] == 'success' and data['count'] > 0:\n",
    "            df_tran = convert_to_dataframe(ACCOUNT_ADDRESS, data)\n",
    "            frames.append(df_tran)\n",
    "\n",
    "df_trans = pd.concat(frames)\n",
    "df_trans.tail()"
   ]
  },
  {
   "cell_type": "code",
   "execution_count": null,
   "metadata": {},
   "outputs": [],
   "source": [
    "ACCOUNT_ADDRESS = 'rNh4YSHxzuPb3QhcV7EWime6Jc5C8YcRYH'\n",
    "data = load_transactions(ACCOUNT_ADDRESS)\n",
    "df_tran = convert_to_dataframe(ACCOUNT_ADDRESS, data)\n",
    "JSON(data, expanded=True)\n",
    "#df_tran"
   ]
  },
  {
   "cell_type": "code",
   "execution_count": null,
   "metadata": {},
   "outputs": [],
   "source": [
    "JSON(data['transactions'][0], expanded=True)"
   ]
  },
  {
   "cell_type": "markdown",
   "metadata": {},
   "source": [
    "## Export To Excel"
   ]
  },
  {
   "cell_type": "code",
   "execution_count": null,
   "metadata": {},
   "outputs": [],
   "source": [
    "df_trans.to_excel('data/transactions.xlsx', index=False)"
   ]
  },
  {
   "cell_type": "markdown",
   "metadata": {},
   "source": [
    "## Load transactions"
   ]
  },
  {
   "cell_type": "code",
   "execution_count": null,
   "metadata": {},
   "outputs": [],
   "source": [
    "def load_transactions(ACCOUNT_ADDRESS):\n",
    "    start = datetime.now() - timedelta(days=10)\n",
    "    date_start = start.strftime(\"%Y-%m-%dT%H:%M:%SZ\")\n",
    "\n",
    "    end = datetime.now()\n",
    "    date_end = end.strftime(\"%Y-%m-%dT%H:%M:%SZ\")\n",
    "\n",
    "    # ACCOUNT_ADDRESS = 'rw7m3CtVHwGSdhFjV4MyJozmZJv3DYQnsA'\n",
    "    url = 'https://data.ripple.com/v2/accounts/{ACCOUNT_ADDRESS}/transactions?start={date_start}&end={date_end}&type=Payment&result=tesSUCCESS&limit=400&descending=True'.format(ACCOUNT_ADDRESS=ACCOUNT_ADDRESS, date_start=date_start, date_end=date_end)\n",
    "\n",
    "    header = {\n",
    "      \"User-Agent\": \"Mozilla/5.0 (X11; Linux x86_64) AppleWebKit/537.36 (KHTML, like Gecko) Chrome/50.0.2661.75 Safari/537.36\",\n",
    "      \"X-Requested-With\": \"XMLHttpRequest\"\n",
    "    }\n",
    "\n",
    "    r = requests.get(url, headers=header)\n",
    "\n",
    "    data = json.loads(r.text)\n",
    "    # JSON(data, expanded=True)\n",
    "    return data"
   ]
  },
  {
   "cell_type": "markdown",
   "metadata": {},
   "source": [
    "## Convert to DataFrame"
   ]
  },
  {
   "cell_type": "code",
   "execution_count": null,
   "metadata": {},
   "outputs": [],
   "source": [
    "def convert_to_dataframe(account, data):\n",
    "    if data['count'] == 0:\n",
    "        return\n",
    "    \n",
    "    trans_list=[]\n",
    "    for d in data['transactions']:\n",
    "        account_desc = ''\n",
    "        d_date = d['date']\n",
    "        d_hash = d['hash']\n",
    "        d_tx_from = d['tx']['Account']\n",
    "        d_tx_from_desc = ''\n",
    "        d_tx_type = d['tx']['TransactionType']\n",
    "        d_tx_flow = ''\n",
    "        d_tx_to = d['tx']['Destination']\n",
    "        d_tx_to_desc = ''\n",
    "        d_tx_dt = d['tx']['DestinationTag'] if d['tx'].__contains__('DestinationTag') else ''\n",
    "        \n",
    "        d_tx_amount = 0\n",
    "        d_tx_currency = ''\n",
    "        d_tx_issuer = ''\n",
    "        if str(type(d['tx']['Amount'])) != \"<class 'dict'>\":\n",
    "            d_tx_amount = float(d['tx']['Amount'])  / 1000000\n",
    "        else:\n",
    "            d_tx_amount = float(d['tx']['Amount']['value']) / 1000000\n",
    "            d_tx_currency = d['tx']['Amount']['currency'][0:8]\n",
    "            d_tx_issuer = d['tx']['Amount']['issuer']\n",
    "        \n",
    "        d_meta_delivered_amount = 0\n",
    "        if str(type(d['meta']['delivered_amount'])) != \"<class 'dict'>\":\n",
    "            d_meta_delivered_amount =  float(d['meta']['delivered_amount'])  / 1000000\n",
    "        else:\n",
    "            d_meta_delivered_amount =  float(d['meta']['delivered_amount']['value'])  / 1000000\n",
    "            \n",
    "        d_tx_fee = float(d['tx']['Fee']) / 1000000\n",
    "        d_meta_result = d['meta']['TransactionResult']\n",
    "\n",
    "        trans_list.append([account, account_desc, d_date, d_hash, d_tx_from, d_tx_from_desc, d_tx_type, d_tx_flow, d_tx_to, d_tx_to_desc, d_tx_dt, d_tx_amount, d_tx_currency, d_tx_issuer, d_meta_delivered_amount, d_tx_fee, d_meta_result])\n",
    "\n",
    "    df_trans = pd.DataFrame(trans_list, columns=['account','Account Desc', 'Date','Tx hash','From','From Desc','Type','Flow','To','To Desc','DT','Amount', 'Currency', 'Issuer', 'Delivered Amount', 'Fee', 'Result'])\n",
    "    \n",
    "    df_trans['Account Desc'] = df_trans['account'].apply(lambda x: find_desc(x))\n",
    "    df_trans['From Desc'] = df_trans['From'].apply(lambda x: find_desc(x))\n",
    "    df_trans['To Desc'] = df_trans['To'].apply(lambda x: find_desc(x))\n",
    "    df_trans['Flow'] = df_trans[['account', 'To']].apply(lambda x: 'IN' if x['account'] == x['To'] else 'OUT', axis=1)\n",
    "    \n",
    "    return df_trans\n"
   ]
  },
  {
   "cell_type": "markdown",
   "metadata": {},
   "source": [
    "## Find Account Description"
   ]
  },
  {
   "cell_type": "code",
   "execution_count": null,
   "metadata": {},
   "outputs": [],
   "source": [
    "def find_desc(account):\n",
    "    try:\n",
    "        _df = df_name.loc[df_name.account == account, ['name','desc']].astype(str)\n",
    "        return '{}{}'.format(_df.name.values[0], '({})'.format(_df.desc.values[0]) if len(_df.desc.values[0]) > 0 else '')\n",
    "    except:\n",
    "        return 'Unknow'\n",
    "    "
   ]
  }
 ],
 "metadata": {
  "kernelspec": {
   "display_name": "Python 3",
   "language": "python",
   "name": "python3"
  },
  "language_info": {
   "codemirror_mode": {
    "name": "ipython",
    "version": 3
   },
   "file_extension": ".py",
   "mimetype": "text/x-python",
   "name": "python",
   "nbconvert_exporter": "python",
   "pygments_lexer": "ipython3",
   "version": "3.6.9"
  }
 },
 "nbformat": 4,
 "nbformat_minor": 4
}
