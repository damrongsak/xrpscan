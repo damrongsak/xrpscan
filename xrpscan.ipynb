{
 "cells": [
  {
   "cell_type": "code",
   "execution_count": null,
   "metadata": {},
   "outputs": [],
   "source": [
    "import pandas as pd\n",
    "import matplotlib.pyplot as plt\n",
    "\n",
    "import requests\n",
    "import json\n",
    "from urllib.request import urlopen\n",
    "from IPython.display import JSON\n",
    "from pandas.io.json import json_normalize\n",
    "\n",
    "from datetime import datetime\n",
    "from datetime import timedelta\n",
    "\n",
    "import time"
   ]
  },
  {
   "cell_type": "markdown",
   "metadata": {},
   "source": [
    "# Config & functions"
   ]
  },
  {
   "cell_type": "code",
   "execution_count": null,
   "metadata": {},
   "outputs": [],
   "source": [
    "df_account = None\n",
    "\n",
    "## Function Save to excel with multiple sheet\n",
    "def DF_TO_EXCEL_MUL(dfs, filename):\n",
    "    writer = pd.ExcelWriter(filename, engine='xlsxwriter')\n",
    "    for sheetname, df in dfs.items():  # loop through `dict` of dataframes\n",
    "        df.to_excel(writer, sheet_name=sheetname)  # send df to writer\n",
    "        worksheet = writer.sheets[sheetname]  # pull worksheet object\n",
    "        for idx, col in enumerate(df):  # loop through all columns\n",
    "            series = df[col]\n",
    "            max_len = max((\n",
    "                series.astype(str).map(len).max(),  # len of largest item\n",
    "                len(str(series.name))  # len of column name/header\n",
    "                )) + 1  # adding a little extra space\n",
    "            worksheet.set_column(idx, idx, max_len)  # set column width\n",
    "    writer.save()\n",
    "\n",
    "## Load Account Name\n",
    "def get_account():\n",
    "    df_account = pd.read_excel('data/List of well-known Names used to identify accounts.xlsx')\n",
    "    df_account.fillna('', inplace=True)\n",
    "    df_account = df_account.sort_values(by='XRP', ascending=False)\n",
    "    return df_account\n",
    "\n",
    "## Find Account Description\n",
    "def find_account_desc(account):\n",
    "    if not dir().count('df_account'):\n",
    "        df_account = load_account()\n",
    "        \n",
    "    try:\n",
    "        _df = df_account.loc[df_account.account == account, ['name','desc']].astype(str)\n",
    "        return '{}{}'.format(_df.name.values[0], '({})'.format(_df.desc.values[0]) if len(_df.desc.values[0]) > 0 else '')\n",
    "    except:\n",
    "        return 'Unknow'\n",
    "\n",
    "## Get account balances\n",
    "def get_balances(ACCOUNT_ADDRESS, days=90):\n",
    "    now = datetime.now()  - timedelta(days=days)\n",
    "    date_time = now.strftime(\"%Y-%m-%d\")\n",
    "    trans_list = []\n",
    "    \n",
    "    header = {\n",
    "      \"User-Agent\": \"Mozilla/5.0 (X11; Linux x86_64) AppleWebKit/537.36 (KHTML, like Gecko) Chrome/50.0.2661.75 Safari/537.36\",\n",
    "      \"X-Requested-With\": \"XMLHttpRequest\"\n",
    "    }\n",
    "    \n",
    "    for i in range(1, days+2):\n",
    "\n",
    "        date_time = now.strftime(\"%Y-%m-%d\")\n",
    "\n",
    "        url = 'https://data.ripple.com/v2/accounts/{ACCOUNT_ADDRESS}/balances?currency=XRP&date={date_time}T00:00:00Z&limit=3'.format(ACCOUNT_ADDRESS=ACCOUNT_ADDRESS, date_time=date_time)\n",
    "        r = requests.get(url, headers=header)\n",
    "        data = json.loads(r.text)\n",
    "\n",
    "        if data['result'] != 'error':\n",
    "            value = float(data['balances'][0]['value'])\n",
    "            trans_list.append([ACCOUNT_ADDRESS, date_time, value])\n",
    "\n",
    "        now = now  + timedelta(days=1)\n",
    "\n",
    "    df_balance = pd.DataFrame(trans_list, columns=['Account', 'Date', 'Balance'])\n",
    "    df_balance.set_index(['Date'], inplace=True)\n",
    "    \n",
    "    return df_balance\n",
    "\n",
    "## Get transactions\n",
    "def get_transactions(ACCOUNT_ADDRESS, days, limit, descending):\n",
    "    start = datetime.now() - timedelta(days=days)\n",
    "    date_start = start.strftime(\"%Y-%m-%dT%H:%M:%SZ\")\n",
    "\n",
    "    end = datetime.now()\n",
    "    date_end = end.strftime(\"%Y-%m-%dT%H:%M:%SZ\")\n",
    "\n",
    "    url = 'https://data.ripple.com/v2/accounts/{ACCOUNT_ADDRESS}/transactions?start={date_start}&end={date_end}&type=Payment&result=tesSUCCESS&limit={limit}&descending={descending}'.format(ACCOUNT_ADDRESS=ACCOUNT_ADDRESS, date_start=date_start, date_end=date_end, limit=limit, descending=descending)\n",
    "\n",
    "    header = {\n",
    "      \"User-Agent\": \"Mozilla/5.0 (X11; Linux x86_64) AppleWebKit/537.36 (KHTML, like Gecko) Chrome/50.0.2661.75 Safari/537.36\",\n",
    "      \"X-Requested-With\": \"XMLHttpRequest\"\n",
    "    }\n",
    "\n",
    "    r = requests.get(url, headers=header)\n",
    "    data = json.loads(r.text)\n",
    "\n",
    "    return data\n",
    "\n",
    "## Convert JSON to DataFrame\n",
    "def convert_to_dataframe(account, data):\n",
    "    if data['result'] == \"error\":\n",
    "        print(data['message'])\n",
    "        return\n",
    "    \n",
    "    if data['count'] == 0:\n",
    "        print('Data not found!')\n",
    "        return\n",
    "    \n",
    "    trans_list=[]\n",
    "    for d in data['transactions']:\n",
    "        account_desc = ''\n",
    "        d_date = d['date']\n",
    "        d_hash = d['hash']\n",
    "        d_tx_from = d['tx']['Account']\n",
    "        d_tx_from_desc = ''\n",
    "        d_tx_type = d['tx']['TransactionType']\n",
    "        d_tx_flow = ''\n",
    "        d_tx_to = d['tx']['Destination']\n",
    "        d_tx_to_desc = ''\n",
    "        d_tx_dt = d['tx']['DestinationTag'] if d['tx'].__contains__('DestinationTag') else ''\n",
    "        \n",
    "        d_tx_amount = 0\n",
    "        d_tx_currency = ''\n",
    "        d_tx_issuer = ''\n",
    "        if str(type(d['tx']['Amount'])) != \"<class 'dict'>\":\n",
    "            d_tx_amount = float(d['tx']['Amount'])  / 1000000\n",
    "        else:\n",
    "            d_tx_amount = float(d['tx']['Amount']['value']) / 1000000\n",
    "            d_tx_currency = d['tx']['Amount']['currency'][0:8]\n",
    "            d_tx_issuer = d['tx']['Amount']['issuer']\n",
    "        \n",
    "        d_meta_delivered_amount = 0\n",
    "        if str(type(d['meta']['delivered_amount'])) != \"<class 'dict'>\":\n",
    "            d_meta_delivered_amount =  float(d['meta']['delivered_amount'])  / 1000000\n",
    "        else:\n",
    "            d_meta_delivered_amount =  float(d['meta']['delivered_amount']['value'])  / 1000000\n",
    "            \n",
    "        d_tx_fee = float(d['tx']['Fee']) / 1000000\n",
    "        d_meta_result = d['meta']['TransactionResult']\n",
    "\n",
    "        trans_list.append([account, account_desc, d_date, d_hash, d_tx_from, d_tx_from_desc, d_tx_type, d_tx_flow, d_tx_to, d_tx_to_desc, d_tx_dt, d_tx_amount, d_tx_currency, d_tx_issuer, d_meta_delivered_amount, d_tx_fee, d_meta_result])\n",
    "\n",
    "    df_trans = pd.DataFrame(trans_list, columns=['account','Account Desc', 'Date','Tx hash','From','From Desc','Type','Flow','To','To Desc','DT','Amount', 'Currency', 'Issuer', 'Delivered Amount', 'Fee', 'Result'])\n",
    "    \n",
    "    df_trans['Account Desc'] = df_trans['account'].apply(lambda x: find_account_desc(x))\n",
    "    df_trans['From Desc'] = df_trans['From'].apply(lambda x: find_account_desc(x))\n",
    "    df_trans['To Desc'] = df_trans['To'].apply(lambda x: find_account_desc(x))\n",
    "    df_trans['Flow'] = df_trans[['account', 'To']].apply(lambda x: 'IN' if x['account'] == x['To'] else 'OUT', axis=1)\n",
    "    \n",
    "    return df_trans\n",
    "\n",
    "def get_account_info(ACCOUNT_ADDRESS):\n",
    "    url = 'https://api.xrpscan.com/api/v1/account//{ACCOUNT_ADDRESS}'.format(ACCOUNT_ADDRESS=ACCOUNT_ADDRESS)\n",
    "\n",
    "    header = {\n",
    "      \"User-Agent\": \"Mozilla/5.0 (X11; Linux x86_64) AppleWebKit/537.36 (KHTML, like Gecko) Chrome/50.0.2661.75 Safari/537.36\",\n",
    "      \"X-Requested-With\": \"XMLHttpRequest\"\n",
    "    }\n",
    "\n",
    "    r = requests.get(url, headers=header)\n",
    "    data = json.loads(r.text)\n",
    "\n",
    "    acc_list = {'account': [data['account']], 'accountName':['{}{}'.format(data['accountName']['name'], '({})'.format(data['accountName']['desc']) if len(data['accountName']['desc'])> 0 else '') if data['accountName'] != None else 'Unknow'], 'parent': [data['parent']], 'parentName':[ data['parentName']['name'] if data['parentName'] != None else ''] , 'inception':[data['inception']] , 'initial_balance':[ data['initial_balance'] ], 'xrpBalance':[float(data['xrpBalance'])], 'Note':''}\n",
    "    df_account_info = pd.DataFrame(acc_list, columns=['account','accountName','parent','parentName','inception','initial_balance','xrpBalance', 'Note'])\n",
    "    \n",
    "    return df_account_info"
   ]
  },
  {
   "cell_type": "markdown",
   "metadata": {},
   "source": [
    "# Get account infomation"
   ]
  },
  {
   "cell_type": "code",
   "execution_count": null,
   "metadata": {},
   "outputs": [],
   "source": [
    "import requests\n",
    "\n",
    "ACCOUNT_ADDRESS = 'rMvYS27SYs5dXdFsUgpvv1CSrPsCz7ePF5'\n",
    "url = 'https://api.xrpscan.com/api/v1/account//{ACCOUNT_ADDRESS}'.format(ACCOUNT_ADDRESS=ACCOUNT_ADDRESS)\n",
    "\n",
    "header = {\n",
    "  \"User-Agent\": \"Mozilla/5.0 (X11; Linux x86_64) AppleWebKit/537.36 (KHTML, like Gecko) Chrome/50.0.2661.75 Safari/537.36\",\n",
    "  \"X-Requested-With\": \"XMLHttpRequest\"\n",
    "}\n",
    "\n",
    "r = requests.get(url, headers=header)\n",
    "data = json.loads(r.text)\n",
    "JSON(data, expanded=True)\n"
   ]
  },
  {
   "cell_type": "code",
   "execution_count": null,
   "metadata": {},
   "outputs": [],
   "source": [
    "def get_account_info(ACCOUNT_ADDRESS):\n",
    "    url = 'https://api.xrpscan.com/api/v1/account//{ACCOUNT_ADDRESS}'.format(ACCOUNT_ADDRESS=ACCOUNT_ADDRESS)\n",
    "\n",
    "    header = {\n",
    "      \"User-Agent\": \"Mozilla/5.0 (X11; Linux x86_64) AppleWebKit/537.36 (KHTML, like Gecko) Chrome/50.0.2661.75 Safari/537.36\",\n",
    "      \"X-Requested-With\": \"XMLHttpRequest\"\n",
    "    }\n",
    "\n",
    "    r = requests.get(url, headers=header)\n",
    "    data = json.loads(r.text)\n",
    "\n",
    "    acc_list = {'account': [data['account']], 'parent': [data['parent']], 'parentName':[ data['parentName']['name']] , 'inception':[data['inception']] , 'initial_balance':[ data['initial_balance'] ], 'xrpBalance':[data['xrpBalance']]}\n",
    "    df_account_info = pd.DataFrame(acc_list, columns=['account','parent','parentName','inception','initial_balance','xrpBalance'])\n",
    "    \n",
    "    return df_account_info"
   ]
  },
  {
   "cell_type": "markdown",
   "metadata": {},
   "source": [
    "# Get Payment flows"
   ]
  },
  {
   "cell_type": "code",
   "execution_count": null,
   "metadata": {
    "jupyter": {
     "source_hidden": true
    }
   },
   "outputs": [],
   "source": [
    "ACCOUNT_ADDRESS = 'rfjW34DYFGF6nZHj8zJJK3dnD7nZoeoAAU'\n",
    "url = 'https://api.xrpscan.com/api/v1/account/{ACCOUNT_ADDRESS}/payment_flows'.format(ACCOUNT_ADDRESS=ACCOUNT_ADDRESS)\n",
    "\n",
    "header = {\n",
    "  \"User-Agent\": \"Mozilla/5.0 (X11; Linux x86_64) AppleWebKit/537.36 (KHTML, like Gecko) Chrome/50.0.2661.75 Safari/537.36\",\n",
    "  \"X-Requested-With\": \"XMLHttpRequest\"\n",
    "}\n",
    "\n",
    "r = requests.get(url, headers=header)\n",
    "data = json.loads(r.text)\n",
    "#JSON(data, expanded=True)\n",
    "df = json_normalize(data)\n",
    "df"
   ]
  },
  {
   "cell_type": "markdown",
   "metadata": {},
   "source": [
    "# Get well-known account"
   ]
  },
  {
   "cell_type": "code",
   "execution_count": null,
   "metadata": {
    "jupyter": {
     "source_hidden": true
    }
   },
   "outputs": [],
   "source": [
    "import requests\n",
    "import json\n",
    "from pandas.io.json import json_normalize\n",
    "\n",
    "url = 'https://api.xrpscan.com/api/v1/names/well-known'\n",
    "\n",
    "header = {\n",
    "  \"User-Agent\": \"Mozilla/5.0 (X11; Linux x86_64) AppleWebKit/537.36 (KHTML, like Gecko) Chrome/50.0.2661.75 Safari/537.36\",\n",
    "  \"X-Requested-With\": \"XMLHttpRequest\"\n",
    "}\n",
    "\n",
    "r = requests.get(url, headers=header)\n",
    "\n",
    "data = json.loads(r.text)\n",
    "df = json_normalize(data)\n",
    "df.fillna('', inplace=True)\n",
    "df.loc[df.name.str.contains('Binance')]"
   ]
  },
  {
   "cell_type": "code",
   "execution_count": null,
   "metadata": {},
   "outputs": [],
   "source": [
    "df.to_excel('data/List of well-known Names used to identify accounts.xlsx')"
   ]
  },
  {
   "cell_type": "markdown",
   "metadata": {},
   "source": [
    "# Get Account Balances"
   ]
  },
  {
   "cell_type": "code",
   "execution_count": null,
   "metadata": {
    "jupyter": {
     "source_hidden": true
    }
   },
   "outputs": [],
   "source": [
    "import pandas as pd\n",
    "import requests\n",
    "import json\n",
    "from urllib.request import urlopen\n",
    "from IPython.display import JSON\n",
    "from pandas.io.json import json_normalize\n",
    "\n",
    "from datetime import datetime\n",
    "from datetime import timedelta\n",
    "\n",
    "now = datetime.now() - timedelta(days=1)\n",
    "date_time = now.strftime(\"%Y-%m-%d\")\n",
    "\n",
    "ACCOUNT_ADDRESS = 'rEahGW5VLYQH2vGBfFmbv9BBpWSTDoukGR'\n",
    "url = 'https://data.ripple.com/v2/accounts/{ACCOUNT_ADDRESS}/balances?currency=XRP&date={date_time}T00:00:00Z&limit=3'.format(ACCOUNT_ADDRESS=ACCOUNT_ADDRESS, date_time=date_time)\n",
    "\n",
    "header = {\n",
    "  \"User-Agent\": \"Mozilla/5.0 (X11; Linux x86_64) AppleWebKit/537.36 (KHTML, like Gecko) Chrome/50.0.2661.75 Safari/537.36\",\n",
    "  \"X-Requested-With\": \"XMLHttpRequest\"\n",
    "}\n",
    "\n",
    "r = requests.get(url, headers=header)\n",
    "\n",
    "data = json.loads(r.text)\n",
    "JSON(data, expanded=True)"
   ]
  },
  {
   "cell_type": "markdown",
   "metadata": {},
   "source": [
    "# Get daily reports"
   ]
  },
  {
   "cell_type": "code",
   "execution_count": null,
   "metadata": {
    "jupyter": {
     "source_hidden": true
    }
   },
   "outputs": [],
   "source": [
    "import pandas as pd\n",
    "import requests\n",
    "import json\n",
    "from urllib.request import urlopen\n",
    "from IPython.display import JSON\n",
    "from pandas.io.json import json_normalize\n",
    "\n",
    "from datetime import datetime\n",
    "from datetime import timedelta\n",
    "\n",
    "now = datetime.now() - timedelta(days=1)\n",
    "date_time = now.strftime(\"%Y-%m-%d\")\n",
    "\n",
    "url = 'https://data.ripple.com/v2/reports/{date_time}T00:00:00Z?accounts=true&payments=true'.format(date_time=date_time)\n",
    "\n",
    "header = {\n",
    "  \"User-Agent\": \"Mozilla/5.0 (X11; Linux x86_64) AppleWebKit/537.36 (KHTML, like Gecko) Chrome/50.0.2661.75 Safari/537.36\",\n",
    "  \"X-Requested-With\": \"XMLHttpRequest\"\n",
    "}\n",
    "\n",
    "r = requests.get(url, headers=header)\n",
    "\n",
    "data = json.loads(r.text)\n",
    "JSON(data, expanded=True)"
   ]
  },
  {
   "cell_type": "markdown",
   "metadata": {},
   "source": [
    "# Get Account balances"
   ]
  },
  {
   "cell_type": "markdown",
   "metadata": {},
   "source": [
    "## Today Balance"
   ]
  },
  {
   "cell_type": "code",
   "execution_count": null,
   "metadata": {
    "jupyter": {
     "source_hidden": true
    }
   },
   "outputs": [],
   "source": [
    "import pandas as pd\n",
    "import requests\n",
    "import json\n",
    "from urllib.request import urlopen\n",
    "from IPython.display import JSON\n",
    "from pandas.io.json import json_normalize\n",
    "\n",
    "from datetime import datetime\n",
    "from datetime import timedelta\n",
    "import time\n",
    "\n",
    "df_name = pd.read_excel('data/List of Monitor Accounts.xlsx')\n",
    "df_name.fillna('', inplace=True)\n",
    "\n",
    "now = datetime.now()\n",
    "date_time = now.strftime(\"%Y-%m-%d\")\n",
    "\n",
    "header = {\n",
    "  \"User-Agent\": \"Mozilla/5.0 (X11; Linux x86_64) AppleWebKit/537.36 (KHTML, like Gecko) Chrome/50.0.2661.75 Safari/537.36\",\n",
    "  \"X-Requested-With\": \"XMLHttpRequest\"\n",
    "}\n",
    "\n",
    "df_xrp = df_name.copy(deep=True)\n",
    "\n",
    "print('Begin')\n",
    "\n",
    "df_name = df_name.sort_values(by='XRP', ascending=False)\n",
    "df_name = df_name[:100] # get top 30 balance\n",
    "\n",
    "for _, row in df_name.iterrows():\n",
    "    print('{}-{}-{}'.format(row['account'], row['name'], row['desc']))\n",
    "\n",
    "    ACCOUNT_ADDRESS = row['account']\n",
    "    \n",
    "    url = 'https://data.ripple.com/v2/accounts/{ACCOUNT_ADDRESS}/balances?currency=XRP&date={date_time}T00:00:00Z&limit=3'.format(ACCOUNT_ADDRESS=ACCOUNT_ADDRESS, date_time=date_time)\n",
    "\n",
    "    r = requests.get(url, headers=header)\n",
    "\n",
    "    data = json.loads(r.text)\n",
    "    if data['result'] != 'error':\n",
    "        df_xrp.loc[df_xrp['account'] == ACCOUNT_ADDRESS, date_time] = float(data['balances'][0]['value'])\n",
    "        \n",
    "    #print('-----------------------')\n",
    "    time.sleep(0.001)   # Delays for 1 seconds. You can also use a float value.\n",
    "\n",
    "df_xrp['verified'] = df_xrp['verified'].astype(bool)\n",
    "\n",
    "df_xrp.to_excel('data/{}-List of Monitor Accounts.xlsx'.format(date_time), index=False)\n",
    "\n",
    "print('Done.')"
   ]
  },
  {
   "cell_type": "markdown",
   "metadata": {},
   "source": [
    "## Get Account Balances History"
   ]
  },
  {
   "cell_type": "code",
   "execution_count": null,
   "metadata": {
    "jupyter": {
     "source_hidden": true
    }
   },
   "outputs": [],
   "source": [
    "import pandas as pd\n",
    "import requests\n",
    "import json\n",
    "from urllib.request import urlopen\n",
    "from IPython.display import JSON\n",
    "from pandas.io.json import json_normalize\n",
    "\n",
    "from datetime import datetime\n",
    "from datetime import timedelta\n",
    "import time\n",
    "\n",
    "df_account = pd.read_excel('data/List of Monitor Accounts.xlsx')\n",
    "df_account.fillna('', inplace=True)\n",
    "df_account['verified'] = df_xrp['verified'].astype(bool)\n",
    "\n",
    "now = datetime.now()  - timedelta(days=30)\n",
    "date_time = now.strftime(\"%Y-%m-%d\")\n",
    "\n",
    "header = {\n",
    "  \"User-Agent\": \"Mozilla/5.0 (X11; Linux x86_64) AppleWebKit/537.36 (KHTML, like Gecko) Chrome/50.0.2661.75 Safari/537.36\",\n",
    "  \"X-Requested-With\": \"XMLHttpRequest\"\n",
    "}\n",
    "\n",
    "df_balance = df_account.copy(deep=True)\n",
    "\n",
    "print('Begin')\n",
    "\n",
    "df_account = df_account.sort_values(by='XRP BALANCES', ascending=False)\n",
    "df_account = df_account[:100] # get top 100 balance\n",
    "\n",
    "for _, row in df_account.iterrows():\n",
    "    print('{}-{}-{}'.format(row['account'], row['name'], row['desc']))\n",
    "\n",
    "    ACCOUNT_ADDRESS = row['account']\n",
    "    \n",
    "    url = 'https://data.ripple.com/v2/accounts/{ACCOUNT_ADDRESS}/balances?currency=XRP&date={date_time}T00:00:00Z&limit=3'.format(ACCOUNT_ADDRESS=ACCOUNT_ADDRESS, date_time=date_time)\n",
    "\n",
    "    r = requests.get(url, headers=header)\n",
    "\n",
    "    data = json.loads(r.text)\n",
    "    if data['result'] != 'error':\n",
    "        df_balance.loc[df_balance['account'] == ACCOUNT_ADDRESS, date_time] = float(data['balances'][0]['value'])\n",
    "        \n",
    "    #print('-----------------------')\n",
    "    time.sleep(0.001)   # Delays for 1 seconds. You can also use a float value.\n",
    "\n",
    "\n",
    "\n",
    "df_balance.to_excel('data/{}-List of Monitor Accounts.xlsx'.format(date_time), index=False)\n",
    "\n",
    "print('Done.')"
   ]
  },
  {
   "cell_type": "code",
   "execution_count": null,
   "metadata": {},
   "outputs": [],
   "source": [
    "df_account = get_account()"
   ]
  },
  {
   "cell_type": "code",
   "execution_count": null,
   "metadata": {
    "jupyter": {
     "source_hidden": true
    }
   },
   "outputs": [],
   "source": [
    "\n",
    "def get_balances(ACCOUNT_ADDRESS, days=90):\n",
    "    now = datetime.now()  - timedelta(days=days)\n",
    "    date_time = now.strftime(\"%Y-%m-%d\")\n",
    "    trans_list = []\n",
    "    \n",
    "    header = {\n",
    "      \"User-Agent\": \"Mozilla/5.0 (X11; Linux x86_64) AppleWebKit/537.36 (KHTML, like Gecko) Chrome/50.0.2661.75 Safari/537.36\",\n",
    "      \"X-Requested-With\": \"XMLHttpRequest\"\n",
    "    }\n",
    "    \n",
    "    for i in range(1, days+1):\n",
    "\n",
    "        date_time = now.strftime(\"%Y-%m-%d\")\n",
    "\n",
    "        url = 'https://data.ripple.com/v2/accounts/{ACCOUNT_ADDRESS}/balances?currency=XRP&date={date_time}T00:00:00Z&limit=3'.format(ACCOUNT_ADDRESS=ACCOUNT_ADDRESS, date_time=date_time)\n",
    "        r = requests.get(url, headers=header)\n",
    "        data = json.loads(r.text)\n",
    "\n",
    "        if data['result'] != 'error':\n",
    "            value = float(data['balances'][0]['value'])\n",
    "            trans_list.append([ACCOUNT_ADDRESS, date_time, value])\n",
    "\n",
    "        now = now  + timedelta(days=1)\n",
    "\n",
    "    df_balance = pd.DataFrame(trans_list, columns=['Account', 'Date', 'Balance'])\n",
    "    df_balance.set_index(['Date'], inplace=True)\n",
    "    \n",
    "    return df_balance\n"
   ]
  },
  {
   "cell_type": "markdown",
   "metadata": {},
   "source": [
    "## Get Account info"
   ]
  },
  {
   "cell_type": "code",
   "execution_count": null,
   "metadata": {},
   "outputs": [],
   "source": [
    "\n",
    "ACCOUNT_ADDRESS = 'rs8ZPbYqgecRcDzQpJYAMhSxSi5htsjnza'\n",
    "\n",
    "df_account_info = get_account_info(ACCOUNT_ADDRESS)\n",
    "ac_list = []\n",
    "for c in list(df_account_info):\n",
    "    ac_list.append([c, df_account_info[c].values[0]])\n",
    "    \n",
    "cols = ['desc','info']\n",
    "df_account_info_x = pd.DataFrame(ac_list, columns=cols)\n",
    "df_account_info_x.set_index('desc', inplace=True)\n",
    "\n",
    "account_name = df_account_info['accountName'].values[0]\n",
    "\n",
    "print(df_account_info_x.to_csv(sep='\\t'))"
   ]
  },
  {
   "cell_type": "code",
   "execution_count": null,
   "metadata": {},
   "outputs": [],
   "source": [
    "df_balance = get_balances(ACCOUNT_ADDRESS, 30)\n",
    "df_balance['Account Desc'] = df_balance['Account'].apply(lambda x: find_account_desc(x))\n",
    "\n",
    "df_balance"
   ]
  },
  {
   "cell_type": "markdown",
   "metadata": {},
   "source": [
    "## Display in Graph"
   ]
  },
  {
   "cell_type": "code",
   "execution_count": null,
   "metadata": {},
   "outputs": [],
   "source": [
    "import matplotlib.pyplot as plt\n",
    "\n",
    "df_balance[['Balance']].plot(grid=True, figsize=(12, 5))\n",
    "plt.suptitle('TAG: {} - Name: {} - Balance: {}'.format(ACCOUNT_ADDRESS, name_desc, df_balance['Balance'].tail(1).values[0]))\n",
    "plt.xticks(rotation=45)\n",
    "plt.show()"
   ]
  },
  {
   "cell_type": "markdown",
   "metadata": {},
   "source": [
    "## Find Transactions"
   ]
  },
  {
   "cell_type": "code",
   "execution_count": null,
   "metadata": {},
   "outputs": [],
   "source": [
    "if not dir().count('df_account'):\n",
    "    df_account = get_account()\n",
    "\n",
    "print(ACCOUNT_ADDRESS)\n",
    "data = get_transactions(ACCOUNT_ADDRESS, days=300, limit=1000, descending=True)\n",
    "df_trans = convert_to_dataframe(ACCOUNT_ADDRESS, data)\n",
    "df_trans"
   ]
  },
  {
   "cell_type": "markdown",
   "metadata": {},
   "source": [
    "## Group by for monitor flow IN/OUT"
   ]
  },
  {
   "cell_type": "code",
   "execution_count": null,
   "metadata": {},
   "outputs": [],
   "source": [
    "df_flow_in = df_trans.loc[df_trans.Flow == 'IN'].groupby(['From', 'From Desc','To','To Desc','DT'])['Amount'].agg(['count', \"sum\"])\n",
    "df_flow_in.sort_values('sum', ascending=False, inplace=True)\n",
    "df_flow_in"
   ]
  },
  {
   "cell_type": "code",
   "execution_count": null,
   "metadata": {},
   "outputs": [],
   "source": [
    "df_flow_out = df_trans.loc[df_trans.Flow == 'OUT'].groupby(['From', 'From Desc','To','To Desc','DT'])['Amount'].agg(['count',\"sum\"])\n",
    "df_flow_out.sort_values('sum', ascending=False, inplace=True)\n",
    "df_flow_out"
   ]
  },
  {
   "cell_type": "markdown",
   "metadata": {},
   "source": [
    "## Export data to Excel"
   ]
  },
  {
   "cell_type": "code",
   "execution_count": null,
   "metadata": {},
   "outputs": [],
   "source": [
    "date_time = datetime.now().strftime(\"%Y-%m-%d\")\n",
    "dfs = {'account_info': df_account_info_x, 'balance': df_balance, 'transactions': df_trans, 'flow_in': df_flow_in, 'flow_out': df_flow_out}\n",
    "filename = 'data/{}-TAG_FLOW-{}-{}.xlsx'.format(date_time, account_name, ACCOUNT_ADDRESS)\n",
    "DF_TO_EXCEL_MUL(dfs, filename)\n",
    "print(filename)\n",
    "print('Done!')"
   ]
  },
  {
   "cell_type": "markdown",
   "metadata": {},
   "source": [
    "# Get Transactions"
   ]
  },
  {
   "cell_type": "markdown",
   "metadata": {},
   "source": [
    "## Main function"
   ]
  },
  {
   "cell_type": "code",
   "execution_count": null,
   "metadata": {},
   "outputs": [],
   "source": [
    "frames = []\n",
    "df_name.fillna('', inplace=True)\n",
    "for _, row in df_name.iterrows():\n",
    "    print('{}-{}-{}'.format(row['account'], row['name'], row['desc']))\n",
    "    ACCOUNT_ADDRESS = row['account']\n",
    "    data = load_transactions(ACCOUNT_ADDRESS)\n",
    "    \n",
    "    if data.__contains__('result'):\n",
    "        if data['result'] == 'success' and data['count'] > 0:\n",
    "            df_tran = convert_to_dataframe(ACCOUNT_ADDRESS, data)\n",
    "            frames.append(df_tran)\n",
    "\n",
    "df_trans = pd.concat(frames)\n",
    "df_trans.tail()"
   ]
  },
  {
   "cell_type": "markdown",
   "metadata": {},
   "source": [
    "## Load Account Name"
   ]
  },
  {
   "cell_type": "code",
   "execution_count": null,
   "metadata": {},
   "outputs": [],
   "source": [
    "## Load Account Name\n",
    "def load_account():\n",
    "    df_name = pd.read_excel('data/List of well-known Names used to identify accounts.xlsx')\n",
    "    df_name.fillna('', inplace=True)\n",
    "    df_name = df_name.sort_values(by='XRP', ascending=False)\n",
    "    return df_name"
   ]
  },
  {
   "cell_type": "markdown",
   "metadata": {},
   "source": [
    "## Load transactions"
   ]
  },
  {
   "cell_type": "code",
   "execution_count": null,
   "metadata": {},
   "outputs": [],
   "source": [
    "## Load transactions\n",
    "def load_transactions(ACCOUNT_ADDRESS):\n",
    "    start = datetime.now() - timedelta(days=90)\n",
    "    date_start = start.strftime(\"%Y-%m-%dT%H:%M:%SZ\")\n",
    "\n",
    "    end = datetime.now()\n",
    "    date_end = end.strftime(\"%Y-%m-%dT%H:%M:%SZ\")\n",
    "\n",
    "    url = 'https://data.ripple.com/v2/accounts/{ACCOUNT_ADDRESS}/transactions?start={date_start}&end={date_end}&type=Payment&result=tesSUCCESS&limit=1000&descending=True'.format(ACCOUNT_ADDRESS=ACCOUNT_ADDRESS, date_start=date_start, date_end=date_end)\n",
    "\n",
    "    header = {\n",
    "      \"User-Agent\": \"Mozilla/5.0 (X11; Linux x86_64) AppleWebKit/537.36 (KHTML, like Gecko) Chrome/50.0.2661.75 Safari/537.36\",\n",
    "      \"X-Requested-With\": \"XMLHttpRequest\"\n",
    "    }\n",
    "\n",
    "    r = requests.get(url, headers=header)\n",
    "    data = json.loads(r.text)\n",
    "\n",
    "    return data"
   ]
  },
  {
   "cell_type": "markdown",
   "metadata": {},
   "source": [
    "## Convert JSON to DataFrame"
   ]
  },
  {
   "cell_type": "code",
   "execution_count": null,
   "metadata": {},
   "outputs": [],
   "source": [
    "## Convert JSON to DataFrame\n",
    "def convert_to_dataframe(account, data):\n",
    "    if data['result'] == \"error\":\n",
    "        print(data['message'])\n",
    "        return\n",
    "    \n",
    "    trans_list=[]\n",
    "    for d in data['transactions']:\n",
    "        account_desc = ''\n",
    "        d_date = d['date']\n",
    "        d_hash = d['hash']\n",
    "        d_tx_from = d['tx']['Account']\n",
    "        d_tx_from_desc = ''\n",
    "        d_tx_type = d['tx']['TransactionType']\n",
    "        d_tx_flow = ''\n",
    "        d_tx_to = d['tx']['Destination']\n",
    "        d_tx_to_desc = ''\n",
    "        d_tx_dt = d['tx']['DestinationTag'] if d['tx'].__contains__('DestinationTag') else ''\n",
    "        \n",
    "        d_tx_amount = 0\n",
    "        d_tx_currency = ''\n",
    "        d_tx_issuer = ''\n",
    "        if str(type(d['tx']['Amount'])) != \"<class 'dict'>\":\n",
    "            d_tx_amount = float(d['tx']['Amount'])  / 1000000\n",
    "        else:\n",
    "            d_tx_amount = float(d['tx']['Amount']['value']) / 1000000\n",
    "            d_tx_currency = d['tx']['Amount']['currency'][0:8]\n",
    "            d_tx_issuer = d['tx']['Amount']['issuer']\n",
    "        \n",
    "        d_meta_delivered_amount = 0\n",
    "        if str(type(d['meta']['delivered_amount'])) != \"<class 'dict'>\":\n",
    "            d_meta_delivered_amount =  float(d['meta']['delivered_amount'])  / 1000000\n",
    "        else:\n",
    "            d_meta_delivered_amount =  float(d['meta']['delivered_amount']['value'])  / 1000000\n",
    "            \n",
    "        d_tx_fee = float(d['tx']['Fee']) / 1000000\n",
    "        d_meta_result = d['meta']['TransactionResult']\n",
    "\n",
    "        trans_list.append([account, account_desc, d_date, d_hash, d_tx_from, d_tx_from_desc, d_tx_type, d_tx_flow, d_tx_to, d_tx_to_desc, d_tx_dt, d_tx_amount, d_tx_currency, d_tx_issuer, d_meta_delivered_amount, d_tx_fee, d_meta_result])\n",
    "\n",
    "    df_trans = pd.DataFrame(trans_list, columns=['account','Account Desc', 'Date','Tx hash','From','From Desc','Type','Flow','To','To Desc','DT','Amount', 'Currency', 'Issuer', 'Delivered Amount', 'Fee', 'Result'])\n",
    "    \n",
    "    df_trans['Account Desc'] = df_trans['account'].apply(lambda x: find_desc(x))\n",
    "    df_trans['From Desc'] = df_trans['From'].apply(lambda x: find_desc(x))\n",
    "    df_trans['To Desc'] = df_trans['To'].apply(lambda x: find_desc(x))\n",
    "    df_trans['Flow'] = df_trans[['account', 'To']].apply(lambda x: 'IN' if x['account'] == x['To'] else 'OUT', axis=1)\n",
    "    \n",
    "    return df_trans\n"
   ]
  },
  {
   "cell_type": "markdown",
   "metadata": {},
   "source": [
    "## Find Account Description"
   ]
  },
  {
   "cell_type": "code",
   "execution_count": null,
   "metadata": {},
   "outputs": [],
   "source": [
    "def find_desc(account):\n",
    "    try:\n",
    "        _df = df_name.loc[df_name.account == account, ['name','desc']].astype(str)\n",
    "        return '{}{}'.format(_df.name.values[0], '({})'.format(_df.desc.values[0]) if len(_df.desc.values[0]) > 0 else '')\n",
    "    except:\n",
    "        return 'Unknow'\n",
    "    "
   ]
  }
 ],
 "metadata": {
  "kernelspec": {
   "display_name": "Python 3",
   "language": "python",
   "name": "python3"
  },
  "language_info": {
   "codemirror_mode": {
    "name": "ipython",
    "version": 3
   },
   "file_extension": ".py",
   "mimetype": "text/x-python",
   "name": "python",
   "nbconvert_exporter": "python",
   "pygments_lexer": "ipython3",
   "version": "3.6.9"
  }
 },
 "nbformat": 4,
 "nbformat_minor": 4
}
